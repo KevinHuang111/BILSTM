{
 "cells": [
  {
   "cell_type": "code",
   "execution_count": 1,
   "id": "6cf108b9",
   "metadata": {
    "_cell_guid": "b1076dfc-b9ad-4769-8c92-a6c4dae69d19",
    "_uuid": "8f2839f25d086af736a60e9eeb907d3b93b6e0e5",
    "execution": {
     "iopub.execute_input": "2024-03-27T14:58:02.818674Z",
     "iopub.status.busy": "2024-03-27T14:58:02.817834Z",
     "iopub.status.idle": "2024-03-27T14:58:03.838495Z",
     "shell.execute_reply": "2024-03-27T14:58:03.836599Z"
    },
    "papermill": {
     "duration": 1.032677,
     "end_time": "2024-03-27T14:58:03.841182",
     "exception": false,
     "start_time": "2024-03-27T14:58:02.808505",
     "status": "completed"
    },
    "tags": []
   },
   "outputs": [
    {
     "name": "stdout",
     "output_type": "stream",
     "text": [
      "/kaggle/input/emotions/text.csv\n"
     ]
    }
   ],
   "source": [
    "# This Python 3 environment comes with many helpful analytics libraries installed\n",
    "# It is defined by the kaggle/python Docker image: https://github.com/kaggle/docker-python\n",
    "# For example, here's several helpful packages to load\n",
    "\n",
    "import numpy as np # linear algebra\n",
    "import pandas as pd # data processing, CSV file I/O (e.g. pd.read_csv)\n",
    "\n",
    "# Input data files are available in the read-only \"../input/\" directory\n",
    "# For example, running this (by clicking run or pressing Shift+Enter) will list all files under the input directory\n",
    "\n",
    "import os\n",
    "for dirname, _, filenames in os.walk('/kaggle/input'):\n",
    "    for filename in filenames:\n",
    "        print(os.path.join(dirname, filename))\n",
    "\n",
    "# You can write up to 20GB to the current directory (/kaggle/working/) that gets preserved as output when you create a version using \"Save & Run All\" \n",
    "# You can also write temporary files to /kaggle/temp/, but they won't be saved outside of the current session"
   ]
  },
  {
   "cell_type": "code",
   "execution_count": 2,
   "id": "f0bd7c56",
   "metadata": {
    "execution": {
     "iopub.execute_input": "2024-03-27T14:58:03.858075Z",
     "iopub.status.busy": "2024-03-27T14:58:03.857516Z",
     "iopub.status.idle": "2024-03-27T14:58:05.406974Z",
     "shell.execute_reply": "2024-03-27T14:58:05.405627Z"
    },
    "papermill": {
     "duration": 1.561097,
     "end_time": "2024-03-27T14:58:05.409910",
     "exception": false,
     "start_time": "2024-03-27T14:58:03.848813",
     "status": "completed"
    },
    "tags": []
   },
   "outputs": [],
   "source": [
    "df = pd.read_csv('/kaggle/input/emotions/text.csv')"
   ]
  },
  {
   "cell_type": "code",
   "execution_count": 3,
   "id": "a46ce28a",
   "metadata": {
    "execution": {
     "iopub.execute_input": "2024-03-27T14:58:05.427087Z",
     "iopub.status.busy": "2024-03-27T14:58:05.425734Z",
     "iopub.status.idle": "2024-03-27T14:58:05.447127Z",
     "shell.execute_reply": "2024-03-27T14:58:05.445857Z"
    },
    "papermill": {
     "duration": 0.03254,
     "end_time": "2024-03-27T14:58:05.449774",
     "exception": false,
     "start_time": "2024-03-27T14:58:05.417234",
     "status": "completed"
    },
    "tags": []
   },
   "outputs": [
    {
     "data": {
      "text/html": [
       "<div>\n",
       "<style scoped>\n",
       "    .dataframe tbody tr th:only-of-type {\n",
       "        vertical-align: middle;\n",
       "    }\n",
       "\n",
       "    .dataframe tbody tr th {\n",
       "        vertical-align: top;\n",
       "    }\n",
       "\n",
       "    .dataframe thead th {\n",
       "        text-align: right;\n",
       "    }\n",
       "</style>\n",
       "<table border=\"1\" class=\"dataframe\">\n",
       "  <thead>\n",
       "    <tr style=\"text-align: right;\">\n",
       "      <th></th>\n",
       "      <th>Unnamed: 0</th>\n",
       "      <th>text</th>\n",
       "      <th>label</th>\n",
       "    </tr>\n",
       "  </thead>\n",
       "  <tbody>\n",
       "    <tr>\n",
       "      <th>0</th>\n",
       "      <td>0</td>\n",
       "      <td>i just feel really helpless and heavy hearted</td>\n",
       "      <td>4</td>\n",
       "    </tr>\n",
       "    <tr>\n",
       "      <th>1</th>\n",
       "      <td>1</td>\n",
       "      <td>ive enjoyed being able to slouch about relax a...</td>\n",
       "      <td>0</td>\n",
       "    </tr>\n",
       "    <tr>\n",
       "      <th>2</th>\n",
       "      <td>2</td>\n",
       "      <td>i gave up my internship with the dmrg and am f...</td>\n",
       "      <td>4</td>\n",
       "    </tr>\n",
       "    <tr>\n",
       "      <th>3</th>\n",
       "      <td>3</td>\n",
       "      <td>i dont know i feel so lost</td>\n",
       "      <td>0</td>\n",
       "    </tr>\n",
       "    <tr>\n",
       "      <th>4</th>\n",
       "      <td>4</td>\n",
       "      <td>i am a kindergarten teacher and i am thoroughl...</td>\n",
       "      <td>4</td>\n",
       "    </tr>\n",
       "    <tr>\n",
       "      <th>5</th>\n",
       "      <td>5</td>\n",
       "      <td>i was beginning to feel quite disheartened</td>\n",
       "      <td>0</td>\n",
       "    </tr>\n",
       "    <tr>\n",
       "      <th>6</th>\n",
       "      <td>6</td>\n",
       "      <td>i would think that whomever would be lucky eno...</td>\n",
       "      <td>2</td>\n",
       "    </tr>\n",
       "    <tr>\n",
       "      <th>7</th>\n",
       "      <td>7</td>\n",
       "      <td>i fear that they won t ever feel that deliciou...</td>\n",
       "      <td>1</td>\n",
       "    </tr>\n",
       "    <tr>\n",
       "      <th>8</th>\n",
       "      <td>8</td>\n",
       "      <td>im forever taking some time out to have a lie ...</td>\n",
       "      <td>5</td>\n",
       "    </tr>\n",
       "    <tr>\n",
       "      <th>9</th>\n",
       "      <td>9</td>\n",
       "      <td>i can still lose the weight without feeling de...</td>\n",
       "      <td>0</td>\n",
       "    </tr>\n",
       "  </tbody>\n",
       "</table>\n",
       "</div>"
      ],
      "text/plain": [
       "   Unnamed: 0                                               text  label\n",
       "0           0      i just feel really helpless and heavy hearted      4\n",
       "1           1  ive enjoyed being able to slouch about relax a...      0\n",
       "2           2  i gave up my internship with the dmrg and am f...      4\n",
       "3           3                         i dont know i feel so lost      0\n",
       "4           4  i am a kindergarten teacher and i am thoroughl...      4\n",
       "5           5         i was beginning to feel quite disheartened      0\n",
       "6           6  i would think that whomever would be lucky eno...      2\n",
       "7           7  i fear that they won t ever feel that deliciou...      1\n",
       "8           8  im forever taking some time out to have a lie ...      5\n",
       "9           9  i can still lose the weight without feeling de...      0"
      ]
     },
     "execution_count": 3,
     "metadata": {},
     "output_type": "execute_result"
    }
   ],
   "source": [
    "df.head(10)"
   ]
  },
  {
   "cell_type": "code",
   "execution_count": 4,
   "id": "6e9c05ee",
   "metadata": {
    "execution": {
     "iopub.execute_input": "2024-03-27T14:58:05.466307Z",
     "iopub.status.busy": "2024-03-27T14:58:05.465902Z",
     "iopub.status.idle": "2024-03-27T14:58:05.549223Z",
     "shell.execute_reply": "2024-03-27T14:58:05.547867Z"
    },
    "papermill": {
     "duration": 0.094519,
     "end_time": "2024-03-27T14:58:05.551662",
     "exception": false,
     "start_time": "2024-03-27T14:58:05.457143",
     "status": "completed"
    },
    "tags": []
   },
   "outputs": [
    {
     "name": "stdout",
     "output_type": "stream",
     "text": [
      "<class 'pandas.core.frame.DataFrame'>\n",
      "RangeIndex: 416809 entries, 0 to 416808\n",
      "Data columns (total 3 columns):\n",
      " #   Column      Non-Null Count   Dtype \n",
      "---  ------      --------------   ----- \n",
      " 0   Unnamed: 0  416809 non-null  int64 \n",
      " 1   text        416809 non-null  object\n",
      " 2   label       416809 non-null  int64 \n",
      "dtypes: int64(2), object(1)\n",
      "memory usage: 9.5+ MB\n"
     ]
    }
   ],
   "source": [
    "df.info()"
   ]
  },
  {
   "cell_type": "code",
   "execution_count": 5,
   "id": "5bba65ee",
   "metadata": {
    "execution": {
     "iopub.execute_input": "2024-03-27T14:58:05.568758Z",
     "iopub.status.busy": "2024-03-27T14:58:05.568381Z",
     "iopub.status.idle": "2024-03-27T14:58:05.579426Z",
     "shell.execute_reply": "2024-03-27T14:58:05.578383Z"
    },
    "papermill": {
     "duration": 0.022429,
     "end_time": "2024-03-27T14:58:05.581836",
     "exception": false,
     "start_time": "2024-03-27T14:58:05.559407",
     "status": "completed"
    },
    "tags": []
   },
   "outputs": [
    {
     "data": {
      "text/plain": [
       "6"
      ]
     },
     "execution_count": 5,
     "metadata": {},
     "output_type": "execute_result"
    }
   ],
   "source": [
    "len(df['label'].unique())"
   ]
  },
  {
   "cell_type": "code",
   "execution_count": 6,
   "id": "2acfbd38",
   "metadata": {
    "execution": {
     "iopub.execute_input": "2024-03-27T14:58:05.598694Z",
     "iopub.status.busy": "2024-03-27T14:58:05.598272Z",
     "iopub.status.idle": "2024-03-27T14:58:05.608889Z",
     "shell.execute_reply": "2024-03-27T14:58:05.607828Z"
    },
    "papermill": {
     "duration": 0.022258,
     "end_time": "2024-03-27T14:58:05.611617",
     "exception": false,
     "start_time": "2024-03-27T14:58:05.589359",
     "status": "completed"
    },
    "tags": []
   },
   "outputs": [
    {
     "data": {
      "text/plain": [
       "array([4, 0, 2, 1, 5, 3])"
      ]
     },
     "execution_count": 6,
     "metadata": {},
     "output_type": "execute_result"
    }
   ],
   "source": [
    "df['label'].unique()"
   ]
  },
  {
   "cell_type": "code",
   "execution_count": 7,
   "id": "33cbbdcd",
   "metadata": {
    "execution": {
     "iopub.execute_input": "2024-03-27T14:58:05.629578Z",
     "iopub.status.busy": "2024-03-27T14:58:05.628567Z",
     "iopub.status.idle": "2024-03-27T14:58:05.643952Z",
     "shell.execute_reply": "2024-03-27T14:58:05.642491Z"
    },
    "papermill": {
     "duration": 0.026894,
     "end_time": "2024-03-27T14:58:05.646412",
     "exception": false,
     "start_time": "2024-03-27T14:58:05.619518",
     "status": "completed"
    },
    "tags": []
   },
   "outputs": [
    {
     "data": {
      "text/plain": [
       "label\n",
       "1    141067\n",
       "0    121187\n",
       "3     57317\n",
       "4     47712\n",
       "2     34554\n",
       "5     14972\n",
       "Name: count, dtype: int64"
      ]
     },
     "execution_count": 7,
     "metadata": {},
     "output_type": "execute_result"
    }
   ],
   "source": [
    "df['label'].value_counts()"
   ]
  },
  {
   "cell_type": "code",
   "execution_count": 8,
   "id": "ceed51dd",
   "metadata": {
    "execution": {
     "iopub.execute_input": "2024-03-27T14:58:05.664885Z",
     "iopub.status.busy": "2024-03-27T14:58:05.663759Z",
     "iopub.status.idle": "2024-03-27T14:58:07.205770Z",
     "shell.execute_reply": "2024-03-27T14:58:07.204398Z"
    },
    "papermill": {
     "duration": 1.55407,
     "end_time": "2024-03-27T14:58:07.208487",
     "exception": false,
     "start_time": "2024-03-27T14:58:05.654417",
     "status": "completed"
    },
    "tags": []
   },
   "outputs": [],
   "source": [
    "from sklearn.model_selection import train_test_split\n",
    "\n",
    "# Assuming 'df' is your DataFrame\n",
    "train_set, test_set = train_test_split(df, test_size=200000)"
   ]
  },
  {
   "cell_type": "code",
   "execution_count": 9,
   "id": "58de3904",
   "metadata": {
    "execution": {
     "iopub.execute_input": "2024-03-27T14:58:07.226634Z",
     "iopub.status.busy": "2024-03-27T14:58:07.226243Z",
     "iopub.status.idle": "2024-03-27T14:58:21.746462Z",
     "shell.execute_reply": "2024-03-27T14:58:21.745219Z"
    },
    "papermill": {
     "duration": 14.532908,
     "end_time": "2024-03-27T14:58:21.749307",
     "exception": false,
     "start_time": "2024-03-27T14:58:07.216399",
     "status": "completed"
    },
    "tags": []
   },
   "outputs": [
    {
     "name": "stderr",
     "output_type": "stream",
     "text": [
      "2024-03-27 14:58:09.703348: E external/local_xla/xla/stream_executor/cuda/cuda_dnn.cc:9261] Unable to register cuDNN factory: Attempting to register factory for plugin cuDNN when one has already been registered\n",
      "2024-03-27 14:58:09.703493: E external/local_xla/xla/stream_executor/cuda/cuda_fft.cc:607] Unable to register cuFFT factory: Attempting to register factory for plugin cuFFT when one has already been registered\n",
      "2024-03-27 14:58:09.875203: E external/local_xla/xla/stream_executor/cuda/cuda_blas.cc:1515] Unable to register cuBLAS factory: Attempting to register factory for plugin cuBLAS when one has already been registered\n"
     ]
    }
   ],
   "source": [
    "from tensorflow.keras.utils import to_categorical\n",
    "train_labels = to_categorical(train_set['label'], num_classes=6)\n",
    "test_labels = to_categorical(test_set['label'], num_classes=6)"
   ]
  },
  {
   "cell_type": "code",
   "execution_count": 10,
   "id": "644fa4e6",
   "metadata": {
    "execution": {
     "iopub.execute_input": "2024-03-27T14:58:21.767549Z",
     "iopub.status.busy": "2024-03-27T14:58:21.766851Z",
     "iopub.status.idle": "2024-03-27T14:58:21.775190Z",
     "shell.execute_reply": "2024-03-27T14:58:21.774007Z"
    },
    "papermill": {
     "duration": 0.020236,
     "end_time": "2024-03-27T14:58:21.777647",
     "exception": false,
     "start_time": "2024-03-27T14:58:21.757411",
     "status": "completed"
    },
    "tags": []
   },
   "outputs": [
    {
     "name": "stdout",
     "output_type": "stream",
     "text": [
      "(216809, 6)\n"
     ]
    }
   ],
   "source": [
    "print(train_labels.shape)"
   ]
  },
  {
   "cell_type": "code",
   "execution_count": 11,
   "id": "048d1c09",
   "metadata": {
    "execution": {
     "iopub.execute_input": "2024-03-27T14:58:21.795801Z",
     "iopub.status.busy": "2024-03-27T14:58:21.795007Z",
     "iopub.status.idle": "2024-03-27T14:58:21.801507Z",
     "shell.execute_reply": "2024-03-27T14:58:21.800436Z"
    },
    "papermill": {
     "duration": 0.018133,
     "end_time": "2024-03-27T14:58:21.803856",
     "exception": false,
     "start_time": "2024-03-27T14:58:21.785723",
     "status": "completed"
    },
    "tags": []
   },
   "outputs": [],
   "source": [
    "class_totals = [121187,141067,34554,57317,47712,14972]  # Your class counts\n",
    "total = sum(class_totals)\n",
    "class_weights = {i: total / class_totals[i] for i in range(len(class_totals))}\n"
   ]
  },
  {
   "cell_type": "code",
   "execution_count": 12,
   "id": "b9a2f654",
   "metadata": {
    "execution": {
     "iopub.execute_input": "2024-03-27T14:58:21.822012Z",
     "iopub.status.busy": "2024-03-27T14:58:21.821163Z",
     "iopub.status.idle": "2024-03-27T14:58:21.828589Z",
     "shell.execute_reply": "2024-03-27T14:58:21.827731Z"
    },
    "papermill": {
     "duration": 0.018962,
     "end_time": "2024-03-27T14:58:21.830760",
     "exception": false,
     "start_time": "2024-03-27T14:58:21.811798",
     "status": "completed"
    },
    "tags": []
   },
   "outputs": [
    {
     "data": {
      "text/plain": [
       "(416809,)"
      ]
     },
     "execution_count": 12,
     "metadata": {},
     "output_type": "execute_result"
    }
   ],
   "source": [
    "df['label'].shape"
   ]
  },
  {
   "cell_type": "code",
   "execution_count": 13,
   "id": "1bfc6806",
   "metadata": {
    "execution": {
     "iopub.execute_input": "2024-03-27T14:58:21.849607Z",
     "iopub.status.busy": "2024-03-27T14:58:21.849192Z",
     "iopub.status.idle": "2024-03-27T14:58:21.856528Z",
     "shell.execute_reply": "2024-03-27T14:58:21.855247Z"
    },
    "papermill": {
     "duration": 0.019162,
     "end_time": "2024-03-27T14:58:21.858996",
     "exception": false,
     "start_time": "2024-03-27T14:58:21.839834",
     "status": "completed"
    },
    "tags": []
   },
   "outputs": [
    {
     "data": {
      "text/plain": [
       "(216809, 6)"
      ]
     },
     "execution_count": 13,
     "metadata": {},
     "output_type": "execute_result"
    }
   ],
   "source": [
    "train_labels.shape"
   ]
  },
  {
   "cell_type": "code",
   "execution_count": 14,
   "id": "6dbb8f35",
   "metadata": {
    "execution": {
     "iopub.execute_input": "2024-03-27T14:58:21.877898Z",
     "iopub.status.busy": "2024-03-27T14:58:21.877499Z",
     "iopub.status.idle": "2024-03-27T14:58:21.885171Z",
     "shell.execute_reply": "2024-03-27T14:58:21.884053Z"
    },
    "papermill": {
     "duration": 0.019806,
     "end_time": "2024-03-27T14:58:21.887434",
     "exception": false,
     "start_time": "2024-03-27T14:58:21.867628",
     "status": "completed"
    },
    "tags": []
   },
   "outputs": [
    {
     "data": {
      "text/plain": [
       "array([[0., 1., 0., 0., 0., 0.],\n",
       "       [0., 1., 0., 0., 0., 0.],\n",
       "       [1., 0., 0., 0., 0., 0.],\n",
       "       ...,\n",
       "       [1., 0., 0., 0., 0., 0.],\n",
       "       [0., 1., 0., 0., 0., 0.],\n",
       "       [1., 0., 0., 0., 0., 0.]])"
      ]
     },
     "execution_count": 14,
     "metadata": {},
     "output_type": "execute_result"
    }
   ],
   "source": [
    "train_labels"
   ]
  },
  {
   "cell_type": "code",
   "execution_count": 15,
   "id": "be9fe0e0",
   "metadata": {
    "execution": {
     "iopub.execute_input": "2024-03-27T14:58:21.906103Z",
     "iopub.status.busy": "2024-03-27T14:58:21.905658Z",
     "iopub.status.idle": "2024-03-27T14:58:47.621947Z",
     "shell.execute_reply": "2024-03-27T14:58:47.620885Z"
    },
    "papermill": {
     "duration": 25.728913,
     "end_time": "2024-03-27T14:58:47.624780",
     "exception": false,
     "start_time": "2024-03-27T14:58:21.895867",
     "status": "completed"
    },
    "tags": []
   },
   "outputs": [],
   "source": [
    "from tensorflow.keras.models import Sequential\n",
    "from tensorflow.keras.layers import Embedding, Bidirectional, LSTM, Dense, Dropout\n",
    "from tensorflow.keras.preprocessing.sequence import pad_sequences\n",
    "from tensorflow.keras.preprocessing.text import Tokenizer\n",
    "\n",
    "# Example preprocessing\n",
    "tokenizer = Tokenizer(num_words=10000)\n",
    "tokenizer.fit_on_texts(train_set['text']) # Your 20 lines of text\n",
    "tokenizer.fit_on_texts(test_set['text']) # Your 20 lines of text\n",
    "sequences = tokenizer.texts_to_sequences(train_set['text'])\n",
    "sequences2 = tokenizer.texts_to_sequences(test_set['text'])\n",
    "data = pad_sequences(sequences, maxlen=100) # Example max length\n",
    "Big = pad_sequences(sequences2, maxlen=100)\n",
    "\n",
    "\n",
    "\n",
    "# Model architecture\n",
    "model = Sequential()\n",
    "model.add(Embedding(input_dim=10000, output_dim=64))\n",
    "model.add(Dropout(0.3))  # Adjust dropout rate as needed\n",
    "model.add(Bidirectional(LSTM(64)))\n",
    "model.add(Dropout(0.3))  # Adjust dropout rate as needed\n",
    "model.add(Dense(6, activation='softmax'))\n",
    "\n",
    "\n",
    "\n",
    "import tensorflow as tf\n",
    "\n",
    "model.compile(optimizer='adam',\n",
    "              loss='categorical_crossentropy',\n",
    "              metrics=[tf.keras.metrics.F1Score(average='weighted', threshold=None, name='f1_score', dtype=None)])\n",
    "\n"
   ]
  },
  {
   "cell_type": "code",
   "execution_count": 16,
   "id": "1e8d4bd8",
   "metadata": {
    "execution": {
     "iopub.execute_input": "2024-03-27T14:58:47.643805Z",
     "iopub.status.busy": "2024-03-27T14:58:47.643424Z",
     "iopub.status.idle": "2024-03-27T15:16:52.726508Z",
     "shell.execute_reply": "2024-03-27T15:16:52.725100Z"
    },
    "papermill": {
     "duration": 1086.406239,
     "end_time": "2024-03-27T15:16:54.039564",
     "exception": false,
     "start_time": "2024-03-27T14:58:47.633325",
     "status": "completed"
    },
    "tags": []
   },
   "outputs": [
    {
     "name": "stdout",
     "output_type": "stream",
     "text": [
      "Epoch 1/2\n",
      "\u001b[1m6776/6776\u001b[0m \u001b[32m━━━━━━━━━━━━━━━━━━━━\u001b[0m\u001b[37m\u001b[0m \u001b[1m543s\u001b[0m 79ms/step - f1_score: 0.7669 - loss: 3.6938 - val_f1_score: 0.9380 - val_loss: 0.1438\n",
      "Epoch 2/2\n",
      "\u001b[1m6776/6776\u001b[0m \u001b[32m━━━━━━━━━━━━━━━━━━━━\u001b[0m\u001b[37m\u001b[0m \u001b[1m542s\u001b[0m 80ms/step - f1_score: 0.9398 - loss: 0.7717 - val_f1_score: 0.9391 - val_loss: 0.1293\n"
     ]
    }
   ],
   "source": [
    "from tensorflow.keras.callbacks import EarlyStopping\n",
    "\n",
    "# Define the early stopping criteria\n",
    "early_stop = EarlyStopping(monitor='val_loss', patience=3, verbose=1, mode='min')\n",
    "# Assuming 'test_data' and 'test_labels' are your test sets\n",
    "history = model.fit(data, train_labels, epochs=2, validation_data=(Big, test_labels),class_weight=class_weights)\n"
   ]
  },
  {
   "cell_type": "code",
   "execution_count": 17,
   "id": "ceb1f6bf",
   "metadata": {
    "execution": {
     "iopub.execute_input": "2024-03-27T15:16:56.746370Z",
     "iopub.status.busy": "2024-03-27T15:16:56.745075Z",
     "iopub.status.idle": "2024-03-27T15:16:57.172271Z",
     "shell.execute_reply": "2024-03-27T15:16:57.170966Z"
    },
    "papermill": {
     "duration": 1.743682,
     "end_time": "2024-03-27T15:16:57.174558",
     "exception": false,
     "start_time": "2024-03-27T15:16:55.430876",
     "status": "completed"
    },
    "tags": []
   },
   "outputs": [
    {
     "name": "stdout",
     "output_type": "stream",
     "text": [
      "\u001b[1m1/1\u001b[0m \u001b[32m━━━━━━━━━━━━━━━━━━━━\u001b[0m\u001b[37m\u001b[0m \u001b[1m0s\u001b[0m 343ms/step\n",
      "Predicted class: anger\n"
     ]
    }
   ],
   "source": [
    "input_text = \"I hate Sunday.\"\n",
    "tokenizer = Tokenizer(num_words=13000)\n",
    "tokenizer.fit_on_texts([input_text])\n",
    "\n",
    "sequences1 = tokenizer.texts_to_sequences([input_text])\n",
    "\n",
    "data = pad_sequences(sequences1, maxlen=100)\n",
    "testprediction1 = model.predict(data)\n",
    "# List of class names\n",
    "\n",
    "class_names = ['sadness' , 'joy' , 'love', 'anger', 'fear', 'surprise']\n",
    "\n",
    "# Assuming 'predicted_index' is the index of the predicted class obtained from the model\n",
    "predicted_index = np.argmax(testprediction1, axis=1)  # For example, if predictions is the output of your model\n",
    "\n",
    "# Get the predicted class name\n",
    "predicted_class_name1 = class_names[predicted_index[0]]  # Use the first prediction as an example\n",
    "print(f\"Predicted class: {predicted_class_name1}\")\n"
   ]
  },
  {
   "cell_type": "code",
   "execution_count": 18,
   "id": "62090851",
   "metadata": {
    "execution": {
     "iopub.execute_input": "2024-03-27T15:16:59.893400Z",
     "iopub.status.busy": "2024-03-27T15:16:59.892683Z",
     "iopub.status.idle": "2024-03-27T15:16:59.987459Z",
     "shell.execute_reply": "2024-03-27T15:16:59.986114Z"
    },
    "papermill": {
     "duration": 1.413763,
     "end_time": "2024-03-27T15:16:59.990150",
     "exception": false,
     "start_time": "2024-03-27T15:16:58.576387",
     "status": "completed"
    },
    "tags": []
   },
   "outputs": [
    {
     "name": "stdout",
     "output_type": "stream",
     "text": [
      "\u001b[1m1/1\u001b[0m \u001b[32m━━━━━━━━━━━━━━━━━━━━\u001b[0m\u001b[37m\u001b[0m \u001b[1m0s\u001b[0m 31ms/step\n",
      "Predicted class: anger\n"
     ]
    }
   ],
   "source": [
    "input_text = \"I am not happy now.\"\n",
    "tokenizer = Tokenizer(num_words=13000)\n",
    "tokenizer.fit_on_texts([input_text])\n",
    "\n",
    "sequences1 = tokenizer.texts_to_sequences([input_text])\n",
    "\n",
    "data = pad_sequences(sequences1, maxlen=100)\n",
    "testprediction1 = model.predict(data)\n",
    "# List of class names\n",
    "\n",
    "class_names = ['sadness' , 'joy' , 'love', 'anger', 'fear', 'surprise']\n",
    "\n",
    "# Assuming 'predicted_index' is the index of the predicted class obtained from the model\n",
    "predicted_index = np.argmax(testprediction1, axis=1)  # For example, if predictions is the output of your model\n",
    "\n",
    "# Get the predicted class name\n",
    "predicted_class_name1 = class_names[predicted_index[0]]  # Use the first prediction as an example\n",
    "print(f\"Predicted class: {predicted_class_name1}\")\n"
   ]
  },
  {
   "cell_type": "code",
   "execution_count": null,
   "id": "af355f4e",
   "metadata": {
    "papermill": {
     "duration": 1.422969,
     "end_time": "2024-03-27T15:17:02.801132",
     "exception": false,
     "start_time": "2024-03-27T15:17:01.378163",
     "status": "completed"
    },
    "tags": []
   },
   "outputs": [],
   "source": []
  }
 ],
 "metadata": {
  "kaggle": {
   "accelerator": "none",
   "dataSources": [
    {
     "datasetId": 4403839,
     "sourceId": 7563141,
     "sourceType": "datasetVersion"
    }
   ],
   "dockerImageVersionId": 30673,
   "isGpuEnabled": false,
   "isInternetEnabled": false,
   "language": "python",
   "sourceType": "notebook"
  },
  "kernelspec": {
   "display_name": "Python 3",
   "language": "python",
   "name": "python3"
  },
  "language_info": {
   "codemirror_mode": {
    "name": "ipython",
    "version": 3
   },
   "file_extension": ".py",
   "mimetype": "text/x-python",
   "name": "python",
   "nbconvert_exporter": "python",
   "pygments_lexer": "ipython3",
   "version": "3.10.13"
  },
  "papermill": {
   "default_parameters": {},
   "duration": 1147.119851,
   "end_time": "2024-03-27T15:17:06.864187",
   "environment_variables": {},
   "exception": null,
   "input_path": "__notebook__.ipynb",
   "output_path": "__notebook__.ipynb",
   "parameters": {},
   "start_time": "2024-03-27T14:57:59.744336",
   "version": "2.5.0"
  }
 },
 "nbformat": 4,
 "nbformat_minor": 5
}
